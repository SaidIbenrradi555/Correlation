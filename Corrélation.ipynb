{
 "cells": [
  {
   "cell_type": "markdown",
   "id": "10cb18a3",
   "metadata": {},
   "source": [
    " # <h1 style=\"text-align:center\"><span style=\"font-family:Comic Sans MS,cursive\"><span style=\"font-size:48px\"><strong>La régression linéaire  </strong></span></span></h1> "
   ]
  },
  {
   "cell_type": "markdown",
   "id": "83fab574",
   "metadata": {},
   "source": [
    "<p style=\"font-family: 'Niconne', cursive; font-size: 15.2px;font-weight: 800;\">La régression linéaire est une technique statistique utilisée pour modéliser la <span style=\"color:#FF7000\">relation</span> entre une variable <span style=\"color:#FF7000\">dépendante (y)</span> et une ou plusieurs variables <span style=\"color:#FF7000\">indépendantes (x)</span>. Elle permet de prédire la valeur de y à partir de x en utilisant une<span style=\"color:#FF7000\"> droite de prédiction</span> "
   ]
  },
  {
   "cell_type": "markdown",
   "id": "a88e4e53",
   "metadata": {},
   "source": [
    "### <i style=\"color:#FF7000\">1.Pour trouver la relation entre x et y, vous devez d'abord rassembler des données sur x et y.</i>"
   ]
  },
  {
   "cell_type": "code",
   "execution_count": 166,
   "id": "c3503e38",
   "metadata": {},
   "outputs": [],
   "source": [
    "x=[2.5,3,3.5,4,4.5,5,5.5,6]\n",
    "y=[65,60,50,40,35,30,15,10]"
   ]
  },
  {
   "cell_type": "markdown",
   "id": "44a87710",
   "metadata": {},
   "source": [
    "### <i style=\"color:#FF7000\">2.Trouver La droite de régression représentée par `y = b0 + b1x`</i>"
   ]
  },
  {
   "cell_type": "markdown",
   "id": "eaf72a81",
   "metadata": {},
   "source": [
    "<p style=\"font-family: 'Niconne', cursive; font-size: 15.2px;font-weight: 800;\">La droite de régression est généralement représentée par l'équation <span style=\"color:#FF7000\">y = b0 + b1x</span>, où b0 est l'ordonnée à l'origine  et b1 est la variation de y par rapport à x.\n",
    "Les coefficients b0 et b1 sont généralement déterminés en utilisant la méthode des moindres carrés, qui consiste à minimiser la somme des carrés des erreurs entre les valeurs prédites et les valeurs réelles de y.<br>\n",
    "<span style=\"color:#FF7000\">b1 = (cov(x, y)) / (var(x))</span><br>\n",
    "<span style=\"color:#FF7000\">b0 = moyenne(y) - b1 * moyenne(x)</span></p>"
   ]
  },
  {
   "cell_type": "code",
   "execution_count": 134,
   "id": "fda4a6b3",
   "metadata": {},
   "outputs": [],
   "source": [
    "import  statistics as st"
   ]
  },
  {
   "cell_type": "code",
   "execution_count": 167,
   "id": "6ac7cdc6",
   "metadata": {},
   "outputs": [],
   "source": [
    "xy=[]\n",
    "xx=[]\n",
    "yy=[]\n",
    "for i in range(len(x)):\n",
    "    xx.append(x[i]*x[i])\n",
    "    yy.append(y[i]*y[i])\n",
    "    for j in range(len(y)):\n",
    "        xy.append(x[i]*y[i])\n",
    "b1=(st.mean(xy)-(st.mean(x)*st.mean(y)))/(st.mean(xx)-(pow(st.mean(x),2)))\n",
    "b0=st.mean(y)-(a*st.mean(x))"
   ]
  },
  {
   "cell_type": "code",
   "execution_count": 168,
   "id": "0b8567b3",
   "metadata": {},
   "outputs": [],
   "source": [
    "Y=[]\n",
    "for u in x:\n",
    "    Y.append((u*b1)+b0)"
   ]
  },
  {
   "cell_type": "code",
   "execution_count": 170,
   "id": "c86bf43c",
   "metadata": {},
   "outputs": [
    {
     "name": "stdout",
     "output_type": "stream",
     "text": [
      "La Droite de régression est donc:Y= -16.071428571428573 X + 106.42857142857143\n"
     ]
    }
   ],
   "source": [
    "print(\"La Droite de régression est donc:Y=\",b1,\"X\",\"+\",b0)"
   ]
  },
  {
   "cell_type": "markdown",
   "id": "7f440071",
   "metadata": {},
   "source": [
    "### <i style=\"color:#FF7000\">3.tracer la droite de régression et le nuage de points</i>"
   ]
  },
  {
   "cell_type": "code",
   "execution_count": 171,
   "id": "ca37a2f2",
   "metadata": {},
   "outputs": [],
   "source": [
    "import matplotlib.pyplot as plt"
   ]
  },
  {
   "cell_type": "code",
   "execution_count": 172,
   "id": "5e487861",
   "metadata": {},
   "outputs": [
    {
     "data": {
      "image/png": "[encoded data removed]",
      "text/plain": [
       "<Figure size 640x480 with 1 Axes>"
      ]
     },
     "metadata": {},
     "output_type": "display_data"
    }
   ],
   "source": [
    "# tracer le nuage de points\n",
    "plt.scatter(x, y)\n",
    "\n",
    "# tracer la droite de régression\n",
    "plt.plot(x, Y, '-r')\n",
    "# ajouter des étiquettes aux axes\n",
    "plt.xlabel('x')\n",
    "plt.ylabel('y')\n",
    "\n",
    "# afficher le graphique\n",
    "plt.show()"
   ]
  },
  {
   "cell_type": "markdown",
   "id": "e03a4686",
   "metadata": {},
   "source": [
    "### <i style=\"color:#FF7000\">4.La corrélation entre x et y </i>"
   ]
  },
  {
   "cell_type": "markdown",
   "id": "5a9e83e6",
   "metadata": {},
   "source": [
    "<p style=\"font-family: 'Niconne', cursive; font-size: 15.2px;font-weight: 800;\">La corrélation entre x et y peut être mesurée en utilisant le coefficient de corrélation de Pearson, qui est généralement noté r. La formule pour calculer r est la suivante: <span  style=\"color:#FF7000\">r = cov(x, y) / (sigma_x * sigma_y)</span></p>"
   ]
  },
  {
   "cell_type": "code",
   "execution_count": 173,
   "id": "78733666",
   "metadata": {},
   "outputs": [
    {
     "name": "stdout",
     "output_type": "stream",
     "text": [
      "Le coefficient de corrélation de Pearson r= -0.9936414126574185\n"
     ]
    }
   ],
   "source": [
    "VarX=st.sqrt(st.mean(xx)-(pow(st.mean(x),2)))\n",
    "VarY=st.sqrt(st.mean(yy)-(pow(st.mean(y),2)))\n",
    "CovXY=(st.mean(xy)-(st.mean(x)*st.mean(y)))\n",
    "r=(CovXY)/(VarX*VarY)\n",
    "print(\"Le coefficient de corrélation de Pearson r=\",r)"
   ]
  },
  {
   "cell_type": "markdown",
   "id": "e37b3ef2",
   "metadata": {},
   "source": [
    "<p style=\"font-family: 'Niconne', cursive; font-size: 15.2px;font-weight: 800;\">La valeur de r varie entre -1 et 1:<br> \n",
    "    -1 indique une <span  style=\"color:#FF7000\">corrélation parfaite négative,</span><br> \n",
    "0 indique <span  style=\"color:#FF7000\">l'absence de corrélation</span><br> \n",
    "    1 indique une <span  style=\"color:#FF7000\">corrélation parfaite positive</span><br> \n",
    "Plus r est proche de 1 ou -1, plus la corrélation est forte</p>"
   ]
  },
  {
   "cell_type": "markdown",
   "id": "e71493a9",
   "metadata": {},
   "source": [
    "### <i style=\"color:#FF7000\">5.Utiliser la bibliothèque Python SciPy </i>"
   ]
  },
  {
   "cell_type": "code",
   "execution_count": 174,
   "id": "5d52f9f1",
   "metadata": {},
   "outputs": [],
   "source": [
    "import numpy as np\n",
    "from scipy import stats"
   ]
  },
  {
   "cell_type": "code",
   "execution_count": 175,
   "id": "3cbd1e99",
   "metadata": {},
   "outputs": [],
   "source": [
    "# calculer les coefficients de régression\n",
    "slope, intercept, r_value, p_value, std_err = stats.linregress(x, y)"
   ]
  },
  {
   "cell_type": "code",
   "execution_count": 176,
   "id": "a622e1d3",
   "metadata": {},
   "outputs": [],
   "source": [
    "# calculer la corrélation\n",
    "R = np.corrcoef(x, y)[0, 1]"
   ]
  },
  {
   "cell_type": "code",
   "execution_count": 177,
   "id": "123083fe",
   "metadata": {},
   "outputs": [
    {
     "data": {
      "image/png": "[encoded data removed]",
      "text/plain": [
       "<Figure size 640x480 with 1 Axes>"
      ]
     },
     "metadata": {},
     "output_type": "display_data"
    }
   ],
   "source": [
    "# tracer le nuage de points\n",
    "plt.scatter(x, y)\n",
    "\n",
    "# tracer la droite de régression\n",
    "plt.plot(x, intercept + slope*np.array(x), 'r', label='y={:.2f}x+{:.2f}'.format(slope,intercept))\n",
    "\n",
    "# ajouter la valeur de r au graphique\n",
    "plt.text(5.6, 65, f'r = {R:.2f}')\n",
    "\n",
    "# ajouter des étiquettes aux axes\n",
    "plt.xlabel('x')\n",
    "plt.ylabel('y')\n",
    "\n",
    "# afficher le graphique\n",
    "plt.show()"
   ]
  }
 ],
 "metadata": {
  "kernelspec": {
   "display_name": "Python 3 (ipykernel)",
   "language": "python",
   "name": "python3"
  },
  "language_info": {
   "codemirror_mode": {
    "name": "ipython",
    "version": 3
   },
   "file_extension": ".py",
   "mimetype": "text/x-python",
   "name": "python",
   "nbconvert_exporter": "python",
   "pygments_lexer": "ipython3",
   "version": "3.9.13"
  }
 },
 "nbformat": 4,
 "nbformat_minor": 5
}
